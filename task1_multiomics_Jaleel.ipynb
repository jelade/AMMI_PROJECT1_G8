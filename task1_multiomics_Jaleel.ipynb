{
  "cells": [
    {
      "cell_type": "markdown",
      "metadata": {
        "id": "view-in-github",
        "colab_type": "text"
      },
      "source": [
        "<a href=\"https://colab.research.google.com/github/jelade/AMMI_PROJECT1_G8/blob/main/task1_multiomics_Jaleel.ipynb\" target=\"_parent\"><img src=\"https://colab.research.google.com/assets/colab-badge.svg\" alt=\"Open In Colab\"/></a>"
      ]
    },
    {
      "cell_type": "markdown",
      "id": "53ad851c-e846-46f8-bfb0-bdcc5a8abb71",
      "metadata": {
        "id": "53ad851c-e846-46f8-bfb0-bdcc5a8abb71"
      },
      "source": [
        "# Multiomics modeling"
      ]
    },
    {
      "cell_type": "markdown",
      "id": "056d3afb-59b4-485d-983d-a4fc4328edc5",
      "metadata": {
        "id": "056d3afb-59b4-485d-983d-a4fc4328edc5"
      },
      "source": [
        "Let's look at the paper *\"Multiomics modeling of the immunome, transcriptome, microbiome, proteome and metabolome adaptations during human pregnancy\"* by **Ghaemi et al. 2019** (`task1_multiomics_ghaemi2019multiomics.pdf`).\n",
        "The idea is to use different modalities (measurements collected from the immune system, microbiome, etc.) to characterize biological changes during pregnancy. \n",
        "This includes whether we can predict the gestational age of a mother solely based on the collected biomarkers.\n",
        "\n",
        "**Note**: There is no need to get accquainted with multiomics modeling, at least for this exercise. In the end, this is just a regular data science task :) "
      ]
    },
    {
      "cell_type": "markdown",
      "id": "4010abf9-7c7d-438e-99cf-1678b84962fe",
      "metadata": {
        "id": "4010abf9-7c7d-438e-99cf-1678b84962fe"
      },
      "source": [
        "## Load the data"
      ]
    },
    {
      "cell_type": "markdown",
      "id": "a012e941-6fb3-41f7-9f0e-1f4ebcec56ad",
      "metadata": {
        "id": "a012e941-6fb3-41f7-9f0e-1f4ebcec56ad"
      },
      "source": [
        "Load the data from `multiomics_data.pickle` using `pickle`. You will get a [pandas](https://pandas.pydata.org/docs/user_guide/10min.html) DataFrame containing preprocessed data from the paper (the original data from their paper is a bit messy). The data contains several meta attributes as well as the different modalities.\n",
        "\n",
        "Meta attributes include:\n",
        "\n",
        "* `Sex`: sex of the baby\n",
        "* `timepoint`: 1-3 correspond to the three trimesters, 4 corresponds to postpartum\n",
        "* `gestational_age`: time of sampling"
      ]
    },
    {
      "cell_type": "markdown",
      "id": "b33f1174-8326-4fb5-a5fa-649a41f64401",
      "metadata": {
        "id": "b33f1174-8326-4fb5-a5fa-649a41f64401"
      },
      "source": [
        "Modalites are:\n",
        "    \n",
        "* `cellfree_rna`\n",
        "* `metabolomics`\n",
        "* `microbiome`\n",
        "* `plasma_luminex`\n",
        "* `serum_luminex`\n",
        "* `immune_system`\n",
        "* `plasma_somalogic`"
      ]
    },
    {
      "cell_type": "markdown",
      "id": "1eafff87-3cc6-4571-aab3-45125c607f37",
      "metadata": {
        "id": "1eafff87-3cc6-4571-aab3-45125c607f37"
      },
      "source": [
        "For more details pleaase see the paper."
      ]
    },
    {
      "cell_type": "code",
      "execution_count": 2,
      "id": "256a11a9-81de-478e-99e1-17e0a8a5a837",
      "metadata": {
        "colab": {
          "base_uri": "https://localhost:8080/",
          "height": 447
        },
        "id": "256a11a9-81de-478e-99e1-17e0a8a5a837",
        "outputId": "4f875ede-7194-4f04-d083-47bd24c2584c"
      },
      "outputs": [
        {
          "output_type": "execute_result",
          "data": {
            "text/plain": [
              "  Training/Validation Gates ID       MRN Study Subject ID Number     Sex  \\\n",
              "                                                                           \n",
              "0                   T  PTLG002  16661779                   10565    Male   \n",
              "1                   T  PTLG002  16661779                   10565    Male   \n",
              "2                   T  PTLG002  16661779                   10565    Male   \n",
              "3                   T  PTLG002  16661779                   10565    Male   \n",
              "4                   T  PTLG004  23587868                   10603  Female   \n",
              "\n",
              "  sex_bin timepoint gestational_age cellfree_rna                ...  \\\n",
              "                                       0_C2orf76      1_ACTL10  ...   \n",
              "0       1         1              11     0.312437 -1.892930e-16  ...   \n",
              "1       1         2              18     0.312437 -1.892930e-16  ...   \n",
              "2       1         3              32     0.312437 -1.892930e-16  ...   \n",
              "3       1         4              45     0.312437 -1.892930e-16  ...   \n",
              "4       0         1              11     5.204209  1.734736e+00  ...   \n",
              "\n",
              "  plasma_somalogic                                                             \\\n",
              "       1290_UBE2G2 1291_TAGLN2 1292_ATP5O 1293_POMC 1294_CRYZL1 1295_SERPINF1   \n",
              "0           4804.4      2233.0     3610.9     715.8       151.4       37885.8   \n",
              "1           4086.0      2160.5     2260.4     825.2       161.0       41821.5   \n",
              "2           4328.0      1818.4     2445.2    1241.8       194.6       45526.1   \n",
              "3           3442.4      2661.4     3879.2     703.6       153.7       36862.5   \n",
              "4           4261.9      1804.6     1470.6     526.8       163.0       38938.3   \n",
              "\n",
              "                                              \n",
              "  1296_CTSF 1297_FTCD 1298_USP25 1299_PLXNB2  \n",
              "0    1479.1    3261.8      561.3      3227.0  \n",
              "1    1465.1    1839.8      597.8      3366.0  \n",
              "2    1428.3    3057.2      625.7      8703.7  \n",
              "3    1063.6    7339.7      593.2      2918.9  \n",
              "4    1170.1    1036.8      552.8      3457.1  \n",
              "\n",
              "[5 rows x 61274 columns]"
            ],
            "text/html": [
              "\n",
              "  <div id=\"df-b00c6387-1fef-4f39-9b80-b63270edbf4b\">\n",
              "    <div class=\"colab-df-container\">\n",
              "      <div>\n",
              "<style scoped>\n",
              "    .dataframe tbody tr th:only-of-type {\n",
              "        vertical-align: middle;\n",
              "    }\n",
              "\n",
              "    .dataframe tbody tr th {\n",
              "        vertical-align: top;\n",
              "    }\n",
              "\n",
              "    .dataframe thead tr th {\n",
              "        text-align: left;\n",
              "    }\n",
              "</style>\n",
              "<table border=\"1\" class=\"dataframe\">\n",
              "  <thead>\n",
              "    <tr>\n",
              "      <th></th>\n",
              "      <th>Training/Validation</th>\n",
              "      <th>Gates ID</th>\n",
              "      <th>MRN</th>\n",
              "      <th>Study Subject ID Number</th>\n",
              "      <th>Sex</th>\n",
              "      <th>sex_bin</th>\n",
              "      <th>timepoint</th>\n",
              "      <th>gestational_age</th>\n",
              "      <th colspan=\"2\" halign=\"left\">cellfree_rna</th>\n",
              "      <th>...</th>\n",
              "      <th colspan=\"10\" halign=\"left\">plasma_somalogic</th>\n",
              "    </tr>\n",
              "    <tr>\n",
              "      <th></th>\n",
              "      <th></th>\n",
              "      <th></th>\n",
              "      <th></th>\n",
              "      <th></th>\n",
              "      <th></th>\n",
              "      <th></th>\n",
              "      <th></th>\n",
              "      <th></th>\n",
              "      <th>0_C2orf76</th>\n",
              "      <th>1_ACTL10</th>\n",
              "      <th>...</th>\n",
              "      <th>1290_UBE2G2</th>\n",
              "      <th>1291_TAGLN2</th>\n",
              "      <th>1292_ATP5O</th>\n",
              "      <th>1293_POMC</th>\n",
              "      <th>1294_CRYZL1</th>\n",
              "      <th>1295_SERPINF1</th>\n",
              "      <th>1296_CTSF</th>\n",
              "      <th>1297_FTCD</th>\n",
              "      <th>1298_USP25</th>\n",
              "      <th>1299_PLXNB2</th>\n",
              "    </tr>\n",
              "  </thead>\n",
              "  <tbody>\n",
              "    <tr>\n",
              "      <th>0</th>\n",
              "      <td>T</td>\n",
              "      <td>PTLG002</td>\n",
              "      <td>16661779</td>\n",
              "      <td>10565</td>\n",
              "      <td>Male</td>\n",
              "      <td>1</td>\n",
              "      <td>1</td>\n",
              "      <td>11</td>\n",
              "      <td>0.312437</td>\n",
              "      <td>-1.892930e-16</td>\n",
              "      <td>...</td>\n",
              "      <td>4804.4</td>\n",
              "      <td>2233.0</td>\n",
              "      <td>3610.9</td>\n",
              "      <td>715.8</td>\n",
              "      <td>151.4</td>\n",
              "      <td>37885.8</td>\n",
              "      <td>1479.1</td>\n",
              "      <td>3261.8</td>\n",
              "      <td>561.3</td>\n",
              "      <td>3227.0</td>\n",
              "    </tr>\n",
              "    <tr>\n",
              "      <th>1</th>\n",
              "      <td>T</td>\n",
              "      <td>PTLG002</td>\n",
              "      <td>16661779</td>\n",
              "      <td>10565</td>\n",
              "      <td>Male</td>\n",
              "      <td>1</td>\n",
              "      <td>2</td>\n",
              "      <td>18</td>\n",
              "      <td>0.312437</td>\n",
              "      <td>-1.892930e-16</td>\n",
              "      <td>...</td>\n",
              "      <td>4086.0</td>\n",
              "      <td>2160.5</td>\n",
              "      <td>2260.4</td>\n",
              "      <td>825.2</td>\n",
              "      <td>161.0</td>\n",
              "      <td>41821.5</td>\n",
              "      <td>1465.1</td>\n",
              "      <td>1839.8</td>\n",
              "      <td>597.8</td>\n",
              "      <td>3366.0</td>\n",
              "    </tr>\n",
              "    <tr>\n",
              "      <th>2</th>\n",
              "      <td>T</td>\n",
              "      <td>PTLG002</td>\n",
              "      <td>16661779</td>\n",
              "      <td>10565</td>\n",
              "      <td>Male</td>\n",
              "      <td>1</td>\n",
              "      <td>3</td>\n",
              "      <td>32</td>\n",
              "      <td>0.312437</td>\n",
              "      <td>-1.892930e-16</td>\n",
              "      <td>...</td>\n",
              "      <td>4328.0</td>\n",
              "      <td>1818.4</td>\n",
              "      <td>2445.2</td>\n",
              "      <td>1241.8</td>\n",
              "      <td>194.6</td>\n",
              "      <td>45526.1</td>\n",
              "      <td>1428.3</td>\n",
              "      <td>3057.2</td>\n",
              "      <td>625.7</td>\n",
              "      <td>8703.7</td>\n",
              "    </tr>\n",
              "    <tr>\n",
              "      <th>3</th>\n",
              "      <td>T</td>\n",
              "      <td>PTLG002</td>\n",
              "      <td>16661779</td>\n",
              "      <td>10565</td>\n",
              "      <td>Male</td>\n",
              "      <td>1</td>\n",
              "      <td>4</td>\n",
              "      <td>45</td>\n",
              "      <td>0.312437</td>\n",
              "      <td>-1.892930e-16</td>\n",
              "      <td>...</td>\n",
              "      <td>3442.4</td>\n",
              "      <td>2661.4</td>\n",
              "      <td>3879.2</td>\n",
              "      <td>703.6</td>\n",
              "      <td>153.7</td>\n",
              "      <td>36862.5</td>\n",
              "      <td>1063.6</td>\n",
              "      <td>7339.7</td>\n",
              "      <td>593.2</td>\n",
              "      <td>2918.9</td>\n",
              "    </tr>\n",
              "    <tr>\n",
              "      <th>4</th>\n",
              "      <td>T</td>\n",
              "      <td>PTLG004</td>\n",
              "      <td>23587868</td>\n",
              "      <td>10603</td>\n",
              "      <td>Female</td>\n",
              "      <td>0</td>\n",
              "      <td>1</td>\n",
              "      <td>11</td>\n",
              "      <td>5.204209</td>\n",
              "      <td>1.734736e+00</td>\n",
              "      <td>...</td>\n",
              "      <td>4261.9</td>\n",
              "      <td>1804.6</td>\n",
              "      <td>1470.6</td>\n",
              "      <td>526.8</td>\n",
              "      <td>163.0</td>\n",
              "      <td>38938.3</td>\n",
              "      <td>1170.1</td>\n",
              "      <td>1036.8</td>\n",
              "      <td>552.8</td>\n",
              "      <td>3457.1</td>\n",
              "    </tr>\n",
              "  </tbody>\n",
              "</table>\n",
              "<p>5 rows × 61274 columns</p>\n",
              "</div>\n",
              "      <button class=\"colab-df-convert\" onclick=\"convertToInteractive('df-b00c6387-1fef-4f39-9b80-b63270edbf4b')\"\n",
              "              title=\"Convert this dataframe to an interactive table.\"\n",
              "              style=\"display:none;\">\n",
              "        \n",
              "  <svg xmlns=\"http://www.w3.org/2000/svg\" height=\"24px\"viewBox=\"0 0 24 24\"\n",
              "       width=\"24px\">\n",
              "    <path d=\"M0 0h24v24H0V0z\" fill=\"none\"/>\n",
              "    <path d=\"M18.56 5.44l.94 2.06.94-2.06 2.06-.94-2.06-.94-.94-2.06-.94 2.06-2.06.94zm-11 1L8.5 8.5l.94-2.06 2.06-.94-2.06-.94L8.5 2.5l-.94 2.06-2.06.94zm10 10l.94 2.06.94-2.06 2.06-.94-2.06-.94-.94-2.06-.94 2.06-2.06.94z\"/><path d=\"M17.41 7.96l-1.37-1.37c-.4-.4-.92-.59-1.43-.59-.52 0-1.04.2-1.43.59L10.3 9.45l-7.72 7.72c-.78.78-.78 2.05 0 2.83L4 21.41c.39.39.9.59 1.41.59.51 0 1.02-.2 1.41-.59l7.78-7.78 2.81-2.81c.8-.78.8-2.07 0-2.86zM5.41 20L4 18.59l7.72-7.72 1.47 1.35L5.41 20z\"/>\n",
              "  </svg>\n",
              "      </button>\n",
              "      \n",
              "  <style>\n",
              "    .colab-df-container {\n",
              "      display:flex;\n",
              "      flex-wrap:wrap;\n",
              "      gap: 12px;\n",
              "    }\n",
              "\n",
              "    .colab-df-convert {\n",
              "      background-color: #E8F0FE;\n",
              "      border: none;\n",
              "      border-radius: 50%;\n",
              "      cursor: pointer;\n",
              "      display: none;\n",
              "      fill: #1967D2;\n",
              "      height: 32px;\n",
              "      padding: 0 0 0 0;\n",
              "      width: 32px;\n",
              "    }\n",
              "\n",
              "    .colab-df-convert:hover {\n",
              "      background-color: #E2EBFA;\n",
              "      box-shadow: 0px 1px 2px rgba(60, 64, 67, 0.3), 0px 1px 3px 1px rgba(60, 64, 67, 0.15);\n",
              "      fill: #174EA6;\n",
              "    }\n",
              "\n",
              "    [theme=dark] .colab-df-convert {\n",
              "      background-color: #3B4455;\n",
              "      fill: #D2E3FC;\n",
              "    }\n",
              "\n",
              "    [theme=dark] .colab-df-convert:hover {\n",
              "      background-color: #434B5C;\n",
              "      box-shadow: 0px 1px 3px 1px rgba(0, 0, 0, 0.15);\n",
              "      filter: drop-shadow(0px 1px 2px rgba(0, 0, 0, 0.3));\n",
              "      fill: #FFFFFF;\n",
              "    }\n",
              "  </style>\n",
              "\n",
              "      <script>\n",
              "        const buttonEl =\n",
              "          document.querySelector('#df-b00c6387-1fef-4f39-9b80-b63270edbf4b button.colab-df-convert');\n",
              "        buttonEl.style.display =\n",
              "          google.colab.kernel.accessAllowed ? 'block' : 'none';\n",
              "\n",
              "        async function convertToInteractive(key) {\n",
              "          const element = document.querySelector('#df-b00c6387-1fef-4f39-9b80-b63270edbf4b');\n",
              "          const dataTable =\n",
              "            await google.colab.kernel.invokeFunction('convertToInteractive',\n",
              "                                                     [key], {});\n",
              "          if (!dataTable) return;\n",
              "\n",
              "          const docLinkHtml = 'Like what you see? Visit the ' +\n",
              "            '<a target=\"_blank\" href=https://colab.research.google.com/notebooks/data_table.ipynb>data table notebook</a>'\n",
              "            + ' to learn more about interactive tables.';\n",
              "          element.innerHTML = '';\n",
              "          dataTable['output_type'] = 'display_data';\n",
              "          await google.colab.output.renderOutput(dataTable, element);\n",
              "          const docLink = document.createElement('div');\n",
              "          docLink.innerHTML = docLinkHtml;\n",
              "          element.appendChild(docLink);\n",
              "        }\n",
              "      </script>\n",
              "    </div>\n",
              "  </div>\n",
              "  "
            ]
          },
          "metadata": {},
          "execution_count": 2
        }
      ],
      "source": [
        "# code for loading the data\n",
        "\n",
        "import numpy as np\n",
        "import pickle\n",
        "\n",
        "with open(\"/content/sample_data/task1_multiomics_data.pickle\", \"rb\") as file:\n",
        "    data_multiomics = pickle.load(file)\n",
        "    \n",
        "data_multiomics.head(5)"
      ]
    },
    {
      "cell_type": "code",
      "execution_count": 3,
      "id": "06272c29",
      "metadata": {
        "colab": {
          "base_uri": "https://localhost:8080/"
        },
        "id": "06272c29",
        "outputId": "53076e84-f91d-4b00-a300-2726e9478a12"
      },
      "outputs": [
        {
          "output_type": "execute_result",
          "data": {
            "text/plain": [
              "MultiIndex([(    'Training/Validation',              ''),\n",
              "            (               'Gates ID',              ''),\n",
              "            (                    'MRN',              ''),\n",
              "            ('Study Subject ID Number',              ''),\n",
              "            (                    'Sex',              ''),\n",
              "            (                'sex_bin',              ''),\n",
              "            (              'timepoint',              ''),\n",
              "            (        'gestational_age',              ''),\n",
              "            (           'cellfree_rna',     '0_C2orf76'),\n",
              "            (           'cellfree_rna',      '1_ACTL10'),\n",
              "            ...\n",
              "            (       'plasma_somalogic',   '1290_UBE2G2'),\n",
              "            (       'plasma_somalogic',   '1291_TAGLN2'),\n",
              "            (       'plasma_somalogic',    '1292_ATP5O'),\n",
              "            (       'plasma_somalogic',     '1293_POMC'),\n",
              "            (       'plasma_somalogic',   '1294_CRYZL1'),\n",
              "            (       'plasma_somalogic', '1295_SERPINF1'),\n",
              "            (       'plasma_somalogic',     '1296_CTSF'),\n",
              "            (       'plasma_somalogic',     '1297_FTCD'),\n",
              "            (       'plasma_somalogic',    '1298_USP25'),\n",
              "            (       'plasma_somalogic',   '1299_PLXNB2')],\n",
              "           length=61274)"
            ]
          },
          "metadata": {},
          "execution_count": 3
        }
      ],
      "source": [
        "data_multiomics.columns\n",
        "\n"
      ]
    },
    {
      "cell_type": "code",
      "execution_count": 4,
      "id": "601e700b-6ab9-488c-821a-f59870e8d5e8",
      "metadata": {
        "colab": {
          "base_uri": "https://localhost:8080/",
          "height": 314
        },
        "id": "601e700b-6ab9-488c-821a-f59870e8d5e8",
        "outputId": "7f11a228-5aef-4425-8fe0-877b1f2a2acc"
      },
      "outputs": [
        {
          "output_type": "execute_result",
          "data": {
            "text/plain": [
              "   0_plasma-IL17F  1_plasma-FASL  2_plasma-TGFA  3_plasma-MIP1A  \\\n",
              "0           59.00           82.0          27.75           46.00   \n",
              "1           63.00           83.5          31.50           53.00   \n",
              "2           72.75          108.0         123.25           67.00   \n",
              "3           90.75          451.0         184.50          104.75   \n",
              "4          686.50         1088.5         453.75          252.25   \n",
              "\n",
              "   4_plasma-SDF1A  5_plasma-IL27  6_plasma-LIF  7_plasma-IL1B  8_plasma-IL2  \\\n",
              "0          191.25          70.50         35.50          28.00          31.0   \n",
              "1          186.75          67.75         36.00          28.00          31.0   \n",
              "2          203.75          86.25         41.75          39.00          50.0   \n",
              "3          370.50         294.50         41.00          36.50          47.5   \n",
              "4          575.50        1028.50        232.00          58.25         147.5   \n",
              "\n",
              "   9_plasma-IL4  ...  52_plasma-ICAM1  53_plasma-VCAM1  54_plasma-FGFB  \\\n",
              "0         56.50  ...          1578.50         15781.00           50.50   \n",
              "1         58.75  ...          1669.00         15689.50           57.00   \n",
              "2         68.50  ...          1399.50         14570.75           75.75   \n",
              "3        195.25  ...          1725.75         14487.75          213.25   \n",
              "4        605.00  ...          2055.00         15889.00          565.50   \n",
              "\n",
              "   55_plasma-IL22  56_plasma-PDGFBB  57_plasma-VEGF  58_plasma-LEPTIN  \\\n",
              "0           43.00              62.5           164.0           1533.50   \n",
              "1           34.75              63.5           168.5           2145.75   \n",
              "2           51.75             143.0           214.0            763.50   \n",
              "3           79.00             618.0           509.0            380.25   \n",
              "4          144.75            1145.5           845.0           2001.50   \n",
              "\n",
              "   59_plasma-PAI1  60_plasma-CD40L  61_plasma-ENA78  \n",
              "0         3707.50           115.75           213.50  \n",
              "1         5077.75           120.50           182.50  \n",
              "2         4713.50           104.75           355.50  \n",
              "3         3957.25           179.00           467.25  \n",
              "4         3481.25          2731.75           724.25  \n",
              "\n",
              "[5 rows x 62 columns]"
            ],
            "text/html": [
              "\n",
              "  <div id=\"df-baebd8d4-1b81-4c15-928e-beb72dfe7ea3\">\n",
              "    <div class=\"colab-df-container\">\n",
              "      <div>\n",
              "<style scoped>\n",
              "    .dataframe tbody tr th:only-of-type {\n",
              "        vertical-align: middle;\n",
              "    }\n",
              "\n",
              "    .dataframe tbody tr th {\n",
              "        vertical-align: top;\n",
              "    }\n",
              "\n",
              "    .dataframe thead th {\n",
              "        text-align: right;\n",
              "    }\n",
              "</style>\n",
              "<table border=\"1\" class=\"dataframe\">\n",
              "  <thead>\n",
              "    <tr style=\"text-align: right;\">\n",
              "      <th></th>\n",
              "      <th>0_plasma-IL17F</th>\n",
              "      <th>1_plasma-FASL</th>\n",
              "      <th>2_plasma-TGFA</th>\n",
              "      <th>3_plasma-MIP1A</th>\n",
              "      <th>4_plasma-SDF1A</th>\n",
              "      <th>5_plasma-IL27</th>\n",
              "      <th>6_plasma-LIF</th>\n",
              "      <th>7_plasma-IL1B</th>\n",
              "      <th>8_plasma-IL2</th>\n",
              "      <th>9_plasma-IL4</th>\n",
              "      <th>...</th>\n",
              "      <th>52_plasma-ICAM1</th>\n",
              "      <th>53_plasma-VCAM1</th>\n",
              "      <th>54_plasma-FGFB</th>\n",
              "      <th>55_plasma-IL22</th>\n",
              "      <th>56_plasma-PDGFBB</th>\n",
              "      <th>57_plasma-VEGF</th>\n",
              "      <th>58_plasma-LEPTIN</th>\n",
              "      <th>59_plasma-PAI1</th>\n",
              "      <th>60_plasma-CD40L</th>\n",
              "      <th>61_plasma-ENA78</th>\n",
              "    </tr>\n",
              "  </thead>\n",
              "  <tbody>\n",
              "    <tr>\n",
              "      <th>0</th>\n",
              "      <td>59.00</td>\n",
              "      <td>82.0</td>\n",
              "      <td>27.75</td>\n",
              "      <td>46.00</td>\n",
              "      <td>191.25</td>\n",
              "      <td>70.50</td>\n",
              "      <td>35.50</td>\n",
              "      <td>28.00</td>\n",
              "      <td>31.0</td>\n",
              "      <td>56.50</td>\n",
              "      <td>...</td>\n",
              "      <td>1578.50</td>\n",
              "      <td>15781.00</td>\n",
              "      <td>50.50</td>\n",
              "      <td>43.00</td>\n",
              "      <td>62.5</td>\n",
              "      <td>164.0</td>\n",
              "      <td>1533.50</td>\n",
              "      <td>3707.50</td>\n",
              "      <td>115.75</td>\n",
              "      <td>213.50</td>\n",
              "    </tr>\n",
              "    <tr>\n",
              "      <th>1</th>\n",
              "      <td>63.00</td>\n",
              "      <td>83.5</td>\n",
              "      <td>31.50</td>\n",
              "      <td>53.00</td>\n",
              "      <td>186.75</td>\n",
              "      <td>67.75</td>\n",
              "      <td>36.00</td>\n",
              "      <td>28.00</td>\n",
              "      <td>31.0</td>\n",
              "      <td>58.75</td>\n",
              "      <td>...</td>\n",
              "      <td>1669.00</td>\n",
              "      <td>15689.50</td>\n",
              "      <td>57.00</td>\n",
              "      <td>34.75</td>\n",
              "      <td>63.5</td>\n",
              "      <td>168.5</td>\n",
              "      <td>2145.75</td>\n",
              "      <td>5077.75</td>\n",
              "      <td>120.50</td>\n",
              "      <td>182.50</td>\n",
              "    </tr>\n",
              "    <tr>\n",
              "      <th>2</th>\n",
              "      <td>72.75</td>\n",
              "      <td>108.0</td>\n",
              "      <td>123.25</td>\n",
              "      <td>67.00</td>\n",
              "      <td>203.75</td>\n",
              "      <td>86.25</td>\n",
              "      <td>41.75</td>\n",
              "      <td>39.00</td>\n",
              "      <td>50.0</td>\n",
              "      <td>68.50</td>\n",
              "      <td>...</td>\n",
              "      <td>1399.50</td>\n",
              "      <td>14570.75</td>\n",
              "      <td>75.75</td>\n",
              "      <td>51.75</td>\n",
              "      <td>143.0</td>\n",
              "      <td>214.0</td>\n",
              "      <td>763.50</td>\n",
              "      <td>4713.50</td>\n",
              "      <td>104.75</td>\n",
              "      <td>355.50</td>\n",
              "    </tr>\n",
              "    <tr>\n",
              "      <th>3</th>\n",
              "      <td>90.75</td>\n",
              "      <td>451.0</td>\n",
              "      <td>184.50</td>\n",
              "      <td>104.75</td>\n",
              "      <td>370.50</td>\n",
              "      <td>294.50</td>\n",
              "      <td>41.00</td>\n",
              "      <td>36.50</td>\n",
              "      <td>47.5</td>\n",
              "      <td>195.25</td>\n",
              "      <td>...</td>\n",
              "      <td>1725.75</td>\n",
              "      <td>14487.75</td>\n",
              "      <td>213.25</td>\n",
              "      <td>79.00</td>\n",
              "      <td>618.0</td>\n",
              "      <td>509.0</td>\n",
              "      <td>380.25</td>\n",
              "      <td>3957.25</td>\n",
              "      <td>179.00</td>\n",
              "      <td>467.25</td>\n",
              "    </tr>\n",
              "    <tr>\n",
              "      <th>4</th>\n",
              "      <td>686.50</td>\n",
              "      <td>1088.5</td>\n",
              "      <td>453.75</td>\n",
              "      <td>252.25</td>\n",
              "      <td>575.50</td>\n",
              "      <td>1028.50</td>\n",
              "      <td>232.00</td>\n",
              "      <td>58.25</td>\n",
              "      <td>147.5</td>\n",
              "      <td>605.00</td>\n",
              "      <td>...</td>\n",
              "      <td>2055.00</td>\n",
              "      <td>15889.00</td>\n",
              "      <td>565.50</td>\n",
              "      <td>144.75</td>\n",
              "      <td>1145.5</td>\n",
              "      <td>845.0</td>\n",
              "      <td>2001.50</td>\n",
              "      <td>3481.25</td>\n",
              "      <td>2731.75</td>\n",
              "      <td>724.25</td>\n",
              "    </tr>\n",
              "  </tbody>\n",
              "</table>\n",
              "<p>5 rows × 62 columns</p>\n",
              "</div>\n",
              "      <button class=\"colab-df-convert\" onclick=\"convertToInteractive('df-baebd8d4-1b81-4c15-928e-beb72dfe7ea3')\"\n",
              "              title=\"Convert this dataframe to an interactive table.\"\n",
              "              style=\"display:none;\">\n",
              "        \n",
              "  <svg xmlns=\"http://www.w3.org/2000/svg\" height=\"24px\"viewBox=\"0 0 24 24\"\n",
              "       width=\"24px\">\n",
              "    <path d=\"M0 0h24v24H0V0z\" fill=\"none\"/>\n",
              "    <path d=\"M18.56 5.44l.94 2.06.94-2.06 2.06-.94-2.06-.94-.94-2.06-.94 2.06-2.06.94zm-11 1L8.5 8.5l.94-2.06 2.06-.94-2.06-.94L8.5 2.5l-.94 2.06-2.06.94zm10 10l.94 2.06.94-2.06 2.06-.94-2.06-.94-.94-2.06-.94 2.06-2.06.94z\"/><path d=\"M17.41 7.96l-1.37-1.37c-.4-.4-.92-.59-1.43-.59-.52 0-1.04.2-1.43.59L10.3 9.45l-7.72 7.72c-.78.78-.78 2.05 0 2.83L4 21.41c.39.39.9.59 1.41.59.51 0 1.02-.2 1.41-.59l7.78-7.78 2.81-2.81c.8-.78.8-2.07 0-2.86zM5.41 20L4 18.59l7.72-7.72 1.47 1.35L5.41 20z\"/>\n",
              "  </svg>\n",
              "      </button>\n",
              "      \n",
              "  <style>\n",
              "    .colab-df-container {\n",
              "      display:flex;\n",
              "      flex-wrap:wrap;\n",
              "      gap: 12px;\n",
              "    }\n",
              "\n",
              "    .colab-df-convert {\n",
              "      background-color: #E8F0FE;\n",
              "      border: none;\n",
              "      border-radius: 50%;\n",
              "      cursor: pointer;\n",
              "      display: none;\n",
              "      fill: #1967D2;\n",
              "      height: 32px;\n",
              "      padding: 0 0 0 0;\n",
              "      width: 32px;\n",
              "    }\n",
              "\n",
              "    .colab-df-convert:hover {\n",
              "      background-color: #E2EBFA;\n",
              "      box-shadow: 0px 1px 2px rgba(60, 64, 67, 0.3), 0px 1px 3px 1px rgba(60, 64, 67, 0.15);\n",
              "      fill: #174EA6;\n",
              "    }\n",
              "\n",
              "    [theme=dark] .colab-df-convert {\n",
              "      background-color: #3B4455;\n",
              "      fill: #D2E3FC;\n",
              "    }\n",
              "\n",
              "    [theme=dark] .colab-df-convert:hover {\n",
              "      background-color: #434B5C;\n",
              "      box-shadow: 0px 1px 3px 1px rgba(0, 0, 0, 0.15);\n",
              "      filter: drop-shadow(0px 1px 2px rgba(0, 0, 0, 0.3));\n",
              "      fill: #FFFFFF;\n",
              "    }\n",
              "  </style>\n",
              "\n",
              "      <script>\n",
              "        const buttonEl =\n",
              "          document.querySelector('#df-baebd8d4-1b81-4c15-928e-beb72dfe7ea3 button.colab-df-convert');\n",
              "        buttonEl.style.display =\n",
              "          google.colab.kernel.accessAllowed ? 'block' : 'none';\n",
              "\n",
              "        async function convertToInteractive(key) {\n",
              "          const element = document.querySelector('#df-baebd8d4-1b81-4c15-928e-beb72dfe7ea3');\n",
              "          const dataTable =\n",
              "            await google.colab.kernel.invokeFunction('convertToInteractive',\n",
              "                                                     [key], {});\n",
              "          if (!dataTable) return;\n",
              "\n",
              "          const docLinkHtml = 'Like what you see? Visit the ' +\n",
              "            '<a target=\"_blank\" href=https://colab.research.google.com/notebooks/data_table.ipynb>data table notebook</a>'\n",
              "            + ' to learn more about interactive tables.';\n",
              "          element.innerHTML = '';\n",
              "          dataTable['output_type'] = 'display_data';\n",
              "          await google.colab.output.renderOutput(dataTable, element);\n",
              "          const docLink = document.createElement('div');\n",
              "          docLink.innerHTML = docLinkHtml;\n",
              "          element.appendChild(docLink);\n",
              "        }\n",
              "      </script>\n",
              "    </div>\n",
              "  </div>\n",
              "  "
            ]
          },
          "metadata": {},
          "execution_count": 4
        }
      ],
      "source": [
        "#Creating new dataframe for each modalities\n",
        "immune_system_df = data_multiomics[\"immune_system\"]\n",
        "cellfree_rna_df = data_multiomics[\"cellfree_rna\"]\n",
        "metabolomics_df = data_multiomics[\"metabolomics\"]\n",
        "microbiome_df = data_multiomics[\"microbiome\"]\n",
        "plasma_luminex_df = data_multiomics[\"plasma_luminex\"]\n",
        "serum_luminex_df = data_multiomics[\"serum_luminex\"]\n",
        "plasma_somalogic_df = data_multiomics[\"plasma_somalogic\"]\n",
        "plasma_luminex_df.head()"
      ]
    },
    {
      "cell_type": "markdown",
      "id": "d4575569-097c-4466-9e87-6d9828438528",
      "metadata": {
        "id": "d4575569-097c-4466-9e87-6d9828438528"
      },
      "source": [
        "## Task 1: Your experience"
      ]
    },
    {
      "cell_type": "markdown",
      "id": "0aa66553-c955-4eb2-9d00-a743a3fa8f22",
      "metadata": {
        "id": "0aa66553-c955-4eb2-9d00-a743a3fa8f22"
      },
      "source": [
        "Before we start, please briefly describe your experience in data science and machine learning (5 sentences)."
      ]
    },
    {
      "cell_type": "markdown",
      "id": "5f9bbac4-bf98-4086-b037-537dab6709af",
      "metadata": {
        "id": "5f9bbac4-bf98-4086-b037-537dab6709af"
      },
      "source": [
        "### I have a bachelors in statistics and masters in  mathematical sciences. During my bachelors and masters, I took courses in computational statistics, data science and machine learning. I have done some that science projects. I have also participated in data science competition. I have more than 3 years experience in analysis of health data."
      ]
    },
    {
      "cell_type": "markdown",
      "id": "a818d55f-4fd9-445f-893d-46c2862cd6ec",
      "metadata": {
        "id": "a818d55f-4fd9-445f-893d-46c2862cd6ec"
      },
      "source": [
        "## Task 2: Reproduce Figure 1"
      ]
    },
    {
      "cell_type": "markdown",
      "id": "3b1bbbcc",
      "metadata": {
        "id": "3b1bbbcc"
      },
      "source": []
    },
    {
      "cell_type": "code",
      "execution_count": 5,
      "id": "4811564f",
      "metadata": {
        "id": "4811564f"
      },
      "outputs": [],
      "source": [
        "import matplotlib.pyplot as plt #Importing visualization library\n",
        "import seaborn as sns\n",
        "\n",
        "colors = sns.color_palette(\"bright\")\n"
      ]
    },
    {
      "cell_type": "code",
      "execution_count": 6,
      "id": "64ec4e2a",
      "metadata": {
        "colab": {
          "base_uri": "https://localhost:8080/"
        },
        "id": "64ec4e2a",
        "outputId": "5fb9d29f-4b94-4599-aaf7-f4ced1f23833"
      },
      "outputs": [
        {
          "output_type": "execute_result",
          "data": {
            "text/plain": [
              "{'Cellfree RNA': 46,\n",
              " 'Plasma Luminex': 10,\n",
              " 'Serum Luminex': 9,\n",
              " 'Microbiome': 8,\n",
              " 'Immune System': 22,\n",
              " 'Metabolomics': 14,\n",
              " 'Plasma Somalogic': 27}"
            ]
          },
          "metadata": {},
          "execution_count": 6
        }
      ],
      "source": [
        "#Perfoming PCA to get numbers of components\n",
        "\n",
        "from sklearn.decomposition import PCA\n",
        "from sklearn.preprocessing import StandardScaler\n",
        "import pandas as pd\n",
        "\n",
        "\n",
        "\n",
        "label_list = [\"Cellfree RNA\", \"Plasma Luminex\", \"Serum Luminex\",\"Microbiome\",\"Immune System\", \"Metabolomics\", \"Plasma Somalogic\"]\n",
        "\n",
        "data_list = [cellfree_rna_df, plasma_luminex_df, serum_luminex_df,microbiome_df,immune_system_df, metabolomics_df, plasma_somalogic_df]\n",
        "\n",
        "def PPCA(data,label):\n",
        "    dic = {}\n",
        "    for i in range(len(data)):\n",
        "        immune = data[i].values\n",
        "\n",
        "        scaler = StandardScaler()\n",
        "        scaler.fit(immune)\n",
        "        immune_scale = scaler.transform(immune)\n",
        "\n",
        "        immune_system_PCA = PCA(0.9)\n",
        "        immune_system_PCA.fit_transform(immune_scale)\n",
        "#explained_var_ratio_fac = pd.DataFrame(np.reshape([immune_system_PCA.explained_variance_ratio_,np.cumsum(immune_system_PCA.explained_variance_ratio_)],(68,2)), columns =['Explained_var','Cummulative'])\n",
        "#print(immune_system_PCA.explained_variance_ratio_)\n",
        "\n",
        "        number_of_components = len(np.cumsum(immune_system_PCA.explained_variance_ratio_))\n",
        "        dic[label[i]] = number_of_components\n",
        "    return dic\n",
        "\n",
        "components = PPCA(data_list, label_list)\n",
        "\n",
        "components"
      ]
    },
    {
      "cell_type": "code",
      "execution_count": 7,
      "id": "f0bee334",
      "metadata": {
        "colab": {
          "base_uri": "https://localhost:8080/",
          "height": 384
        },
        "id": "f0bee334",
        "outputId": "8a6f0541-d2c9-45f1-9cb6-9a2c2e11bc7e"
      },
      "outputs": [
        {
          "output_type": "execute_result",
          "data": {
            "text/plain": [
              "Text(0, 0.5, 'Number of PCs for 90% Variance')"
            ]
          },
          "metadata": {},
          "execution_count": 7
        },
        {
          "output_type": "display_data",
          "data": {
            "text/plain": [
              "<Figure size 432x288 with 2 Axes>"
            ],
            "image/png": "[encoded data removed]"
          },
          "metadata": {
            "needs_background": "light"
          }
        }
      ],
      "source": [
        "#Creating label for the plots\n",
        "label = [\"Cellfree\\nRNA\", \"Plasma\\nLuminex\", \"Serum\\nLuminex\",\"Microbiome\",\"Immune\\nSystem\", \"Metabolomics\", \"Plasma\\nSomalogic\"]\n",
        "#The list of measure\n",
        "Number_of_measurement = [37375,62,62,18548,534,3485,1300]\n",
        "\n",
        "\n",
        "# Getting name and value from the PCs dictionary\n",
        "names = list(components.keys())\n",
        "values = list(components.values())\n",
        "\n",
        "#Plotting\n",
        "fig = plt.figure()\n",
        "\n",
        "\n",
        "plt.subplot(1,2,1)\n",
        "#First plot for the measures\n",
        "plt.bar(label, np.log10(Number_of_measurement), color = [colors[8],colors[3],colors[2],colors[9],colors[4],colors[0],colors[1]],edgecolor='black')\n",
        "sns.despine(bottom=True)\n",
        "plt.xticks(rotation=90)\n",
        "plt.title(\"B\", fontsize= 20,loc='left')\n",
        "plt.ylabel(\"Number of measurements in Log 10 scale\")\n",
        "\n",
        "#Second plot for the PCs for 90% variance\n",
        "plt.subplot(1,2,2)\n",
        "plt.bar(range(len(names)), values, tick_label=names,color = [colors[8],colors[3],colors[2],colors[9],colors[4],colors[0],colors[1]],edgecolor='black')\n",
        "\n",
        "sns.despine(bottom=True)\n",
        "plt.xticks(rotation=90)\n",
        "\n",
        "plt.title(\"C\", fontsize= 20,loc='left')\n",
        "plt.ylabel(\"Number of PCs for 90% Variance\")"
      ]
    },
    {
      "cell_type": "markdown",
      "id": "058b5193-9d31-4efe-a966-11cec06c5a3e",
      "metadata": {
        "id": "058b5193-9d31-4efe-a966-11cec06c5a3e"
      },
      "source": [
        "1. Reproduce **Figure 1 B and C** from the paper.\n",
        "2. Explain in a few words why this analyhsis was conducted, and what the authors want to tell the reader with the results."
      ]
    },
    {
      "cell_type": "markdown",
      "source": [
        "### Answer\n",
        "\n",
        "\n",
        "** The authors wanted to show the readers with figure B to know the modalities with the highest number of measures. This is the reason this analysis was conducted\n",
        "\n",
        "** Also, the figure C, the author wants to show the reader the modality which have the highest number of correlated measure and the modality with the lowest. The modality with many correlated features have the smallest bar.\n",
        "\n",
        "** Also, this is to show the reader that the modalities measure are different from the other."
      ],
      "metadata": {
        "id": "nGpEOxw14DBg"
      },
      "id": "nGpEOxw14DBg"
    },
    {
      "cell_type": "markdown",
      "id": "f9dff1bb-8b03-45fd-9117-96311a12b1a4",
      "metadata": {
        "id": "f9dff1bb-8b03-45fd-9117-96311a12b1a4"
      },
      "source": [
        "**Figure 1:**<br/>\n",
        "<img src=\"assets/task1_multiomics_fig1.jpeg\">"
      ]
    },
    {
      "cell_type": "markdown",
      "id": "1e208e6c-6b53-4a94-a4d9-eea2545378a1",
      "metadata": {
        "id": "1e208e6c-6b53-4a94-a4d9-eea2545378a1"
      },
      "source": [
        "## Task 3: Build a prediction model for `gestational_age`"
      ]
    },
    {
      "cell_type": "markdown",
      "id": "72f7cbc5-5d8e-4f45-aaa4-b2d90cfbfdf1",
      "metadata": {
        "id": "72f7cbc5-5d8e-4f45-aaa4-b2d90cfbfdf1"
      },
      "source": [
        "1. Pick **two modalities** and train two models to predict `gestational_age` **for each of them** (the original paper built models for all seven of them and combined them as well; you don't need to do that).\n",
        "This should result in four trained models.\n",
        "For example, one trained model could based on `linear regression` as a model, the `immune_system` data as input, and `gestational_age` as output.\n",
        "\n",
        "2. **Evaluate** your models using a measure that you think fits best and **visualize** your predictions similar to **Figure 5**.\n",
        "\n",
        "3. For your best model, **plot a figure** similar to **Figure 2D**.\n",
        "\n",
        "4. **Briefly explain** your choices and discuss the results (particularly if your approach or your results differ from the paper).\n",
        "\n",
        "To train and evaluate models, you can use [scikit-learn](https://scikit-learn.org/stable/tutorial/basic/tutorial.html)."
      ]
    },
    {
      "cell_type": "markdown",
      "source": [
        "# Answer\n",
        "\n",
        "1. I choose to use random forest model for this because it is best when the data have fewer observation compare to the number of features. Also, Random forest regressors are particularly well-suited to handling high-dimensional data because they use an ensemble of decision trees, each of which is trained on a random subset of the features.\n",
        "\n",
        "\n",
        "2. I choose XGBoost because it can handle high-dimensional data with a large number of features. This data set have a very large number of features for each modalities.\n",
        "\n",
        "\n",
        "\n",
        "#### Result\n",
        "\n",
        "From the results, XGBoost performed better than Random Forest on the two datasets, which is displayed in the performance plot. R-squared and Mean squared Error were used to evaluate the model because its a prediction task.\n",
        "\n",
        "\n"
      ],
      "metadata": {
        "id": "_c84e6lU5Xmq"
      },
      "id": "_c84e6lU5Xmq"
    },
    {
      "cell_type": "code",
      "execution_count": 8,
      "id": "67abef01",
      "metadata": {
        "colab": {
          "base_uri": "https://localhost:8080/",
          "height": 381
        },
        "id": "67abef01",
        "outputId": "48cfd7a9-dd30-40d7-877c-31eb6fbb9397"
      },
      "outputs": [
        {
          "output_type": "stream",
          "name": "stdout",
          "text": [
            "Prediction Score:  0.39342503232175063\n",
            "Mean Absolute Error: 8.980618950711746\n",
            "Mean Squared Error: 108.44074932370337\n",
            "Root Mean Squared Error: 10.413488816131862\n"
          ]
        },
        {
          "output_type": "execute_result",
          "data": {
            "text/plain": [
              "[<matplotlib.lines.Line2D at 0x7f47c7dea4f0>]"
            ]
          },
          "metadata": {},
          "execution_count": 8
        },
        {
          "output_type": "display_data",
          "data": {
            "text/plain": [
              "<Figure size 432x288 with 1 Axes>"
            ],
            "image/png": "[encoded data removed]"
          },
          "metadata": {
            "needs_background": "light"
          }
        }
      ],
      "source": [
        "#Importing the needed library\n",
        "\n",
        "from sklearn.ensemble import RandomForestRegressor\n",
        "from sklearn.model_selection import train_test_split\n",
        "from xgboost import XGBRegressor\n",
        "from sklearn.model_selection import cross_val_score\n",
        "from sklearn.model_selection import RepeatedKFold\n",
        "from numpy import absolute\n",
        "from sklearn import metrics\n",
        "from sklearn.pipeline import make_pipeline\n",
        "from sklearn.preprocessing import StandardScaler\n",
        "\n",
        "\n",
        "\n",
        "#Targeted value\n",
        "y = data_multiomics[\"gestational_age\"]\n",
        "\n",
        "\n",
        "#I choose serum liminex and plama semalogic\n",
        "X_serum  = serum_luminex_df\n",
        "X_plasma = plasma_somalogic_df\n",
        "\n",
        "\n",
        "#Dividing data into training and test set\n",
        "\n",
        "X_train_serum, X_test_serum, y_train_serum, y_test_serum = train_test_split(X_serum, y, test_size=0.1, random_state=36)\n",
        "\n",
        "# Scale the data to be between -1 and 1\n",
        "scaler = StandardScaler()\n",
        "scaler.fit(X_train_serum)\n",
        "scaler.fit(X_test_serum)\n",
        "X_train_serum = scaler.transform(X_train_serum)\n",
        "X_test_serum= scaler.transform(X_test_serum)\n",
        "\n",
        "#Fitting a Random Forest Regressor\n",
        "regr_serum = RandomForestRegressor(n_estimators=33, max_depth=2, random_state=0)\n",
        "regr_serum.fit(X_train_serum, y_train_serum)\n",
        "\n",
        "y_pred_serumR = regr_serum.predict(X_test_serum)\n",
        "\n",
        "print(\"Prediction Score: \", regr_serum.score(X_test_serum, y_test_serum))\n",
        "\n",
        "# Evaluating the Algorithm\n",
        "\n",
        "mae_serumR= metrics.mean_absolute_error(y_test_serum, y_pred_serumR)\n",
        "mse_serumR = metrics.mean_squared_error(y_test_serum, y_pred_serumR)\n",
        "rmse_serumR = np.sqrt(metrics.mean_squared_error(y_test_serum, y_pred_serumR))\n",
        "\n",
        "print('Mean Absolute Error:', mae_serumR)  \n",
        "print('Mean Squared Error:', mse_serumR)  \n",
        "print('Root Mean Squared Error:', rmse_serumR )\n",
        "\n",
        "\n",
        "\n",
        "#Checking for the best number estimator\n",
        "\n",
        "estimators = np.arange(10, 50, 10)\n",
        "scores = []\n",
        "for n in estimators:\n",
        "    regr_serum.set_params(n_estimators=n)\n",
        "    regr_serum.fit(X_train_serum, y_train_serum)\n",
        "    scores.append(regr_serum.score(X_test_serum, y_test_serum))\n",
        "plt.title(\"Effect of n_estimators\")\n",
        "plt.xlabel(\"n_estimator\")\n",
        "plt.ylabel(\"score\")\n",
        "plt.plot(estimators, scores)\n"
      ]
    },
    {
      "cell_type": "code",
      "execution_count": 10,
      "id": "30f98928",
      "metadata": {
        "colab": {
          "base_uri": "https://localhost:8080/"
        },
        "id": "30f98928",
        "outputId": "e8c86ae2-cf51-4a84-9771-a5b88e40142a"
      },
      "outputs": [
        {
          "output_type": "stream",
          "name": "stdout",
          "text": [
            "Mean Absolute Error: 3.232671098742526\n",
            "Mean Squared Error: 17.38271295106383\n",
            "Root Mean Squared Error: 4.169258081609224\n",
            "Accuracy score:  0.9027679298399398\n"
          ]
        }
      ],
      "source": [
        "#Divinding the data to train and test data\n",
        "X_train_plasma, X_test_plasma, y_train_plasma, y_test_plasma = train_test_split(X_plasma, y, test_size=0.1, random_state=36)\n",
        "#Fitting random forest regression\n",
        "regr_plasma = RandomForestRegressor(n_estimators = 40,random_state=0,criterion='squared_error', min_samples_leaf=3, min_samples_split=3, max_depth=10)\n",
        "regr_plasma.fit(X_train_plasma,y_train_plasma)\n",
        "\n",
        "y_pred_plasma = regr_plasma.predict(X_test_plasma)\n",
        "\n",
        "# Evaluating the Algorithm\n",
        "\n",
        "\n",
        "# Evaluating the Algorithm\n",
        "\n",
        "mae_plasmaR= metrics.mean_absolute_error(y_test_plasma, y_pred_plasma)\n",
        "mse_plasmaR = metrics.mean_squared_error(y_test_plasma, y_pred_plasma)\n",
        "rmse_plasmaR = np.sqrt(metrics.mean_squared_error(y_test_plasma, y_pred_plasma))\n",
        "score_plasmaR = metrics.r2_score(y_test_plasma, y_pred_plasma)\n",
        "\n",
        "print('Mean Absolute Error:', mae_plasmaR)  \n",
        "print('Mean Squared Error:', mse_plasmaR)  \n",
        "print('Root Mean Squared Error:', rmse_plasmaR )\n",
        "print(\"Accuracy score: \", score_plasmaR )\n",
        "\n"
      ]
    },
    {
      "cell_type": "code",
      "execution_count": 11,
      "id": "f4a6bea9",
      "metadata": {
        "colab": {
          "base_uri": "https://localhost:8080/"
        },
        "id": "f4a6bea9",
        "outputId": "d84e38b2-69e0-4a67-e320-043e69dc286d"
      },
      "outputs": [
        {
          "output_type": "stream",
          "name": "stdout",
          "text": [
            "Mean Absolute Error: 6.822690282549177\n",
            "Mean Squared Error: 58.8106475373405\n",
            "Root Mean Squared Error: 7.6688100470242775\n",
            "Scores:  0.6710363322683008\n",
            "[15.105675  19.615635  13.7886915 19.14576   34.77926   41.149208\n",
            " 20.11179  ]\n"
          ]
        }
      ],
      "source": [
        "# create an xgboost regression model\n",
        "model_serumX = XGBRegressor()\n",
        "model_serumX.fit(X_train_serum, y_train_serum)\n",
        "\n",
        "# Evaluating the Algorithm\n",
        "y_pred_serumX = model_serumX.predict(X_test_serum)\n",
        "\n",
        "\n",
        "mae_serumX= metrics.mean_absolute_error(y_test_serum, y_pred_serumX)\n",
        "mse_serumX = metrics.mean_squared_error(y_test_serum, y_pred_serumX)\n",
        "rmse_serumX = np.sqrt(metrics.mean_squared_error(y_test_serum, y_pred_serumX))\n",
        "scores_serumX = model_serumX.score(X_test_serum, y_test_serum)\n",
        "\n",
        "print('Mean Absolute Error:', mae_serumX)  \n",
        "print('Mean Squared Error:', mse_serumX)  \n",
        "print('Root Mean Squared Error:', rmse_serumX)\n",
        "print(\"Scores: \", scores_serumX)\n"
      ]
    },
    {
      "cell_type": "code",
      "execution_count": 12,
      "id": "05f6e453",
      "metadata": {
        "colab": {
          "base_uri": "https://localhost:8080/"
        },
        "id": "05f6e453",
        "outputId": "87e6433f-fa03-4a12-dc03-012cf71ebcca"
      },
      "outputs": [
        {
          "output_type": "stream",
          "name": "stdout",
          "text": [
            "Mean Absolute Error: 1.4551293509347099\n",
            "Mean Squared Error: 2.5138696704088943\n",
            "Root Mean Squared Error: 1.58551873858649\n",
            "Accuracy score:  0.9859384002454297\n"
          ]
        }
      ],
      "source": [
        "# create an xgboost regression model for plasma\n",
        "model2 = XGBRegressor()\n",
        "model2.fit(X_train_plasma, y_train_plasma)\n",
        "\n",
        "\n",
        "\n",
        "y_pred_plasmaX = model2.predict(X_test_plasma)\n",
        "\n",
        "\n",
        "mae_plasmaX= metrics.mean_absolute_error(y_test_plasma, y_pred_plasmaX)\n",
        "mse_plasmaX = metrics.mean_squared_error(y_test_plasma, y_pred_plasmaX)\n",
        "rmse_plasmaX = np.sqrt(metrics.mean_squared_error(y_test_plasma, y_pred_plasmaX))\n",
        "score_plasmaX = metrics.r2_score(y_test_plasma, y_pred_plasmaX)\n",
        "\n",
        "print('Mean Absolute Error:', mae_plasmaX)  \n",
        "print('Mean Squared Error:', mse_plasmaX)  \n",
        "print('Root Mean Squared Error:', rmse_plasmaX )\n",
        "print(\"Accuracy score: \", score_plasmaX )\n",
        "\n",
        "\n",
        "\n",
        "\n"
      ]
    },
    {
      "cell_type": "code",
      "execution_count": 13,
      "id": "119f1a6c",
      "metadata": {
        "colab": {
          "base_uri": "https://localhost:8080/",
          "height": 277
        },
        "id": "119f1a6c",
        "outputId": "0dddf546-b043-41c9-af0a-b2373431cb70"
      },
      "outputs": [
        {
          "output_type": "display_data",
          "data": {
            "text/plain": [
              "<Figure size 432x288 with 1 Axes>"
            ],
            "image/png": "[encoded data removed]"
          },
          "metadata": {
            "needs_background": "light"
          }
        }
      ],
      "source": [
        "#Comaparing the models using bar plots\n",
        "\n",
        "rmse_R = [rmse_plasmaR,rmse_serumR]\n",
        "rmse_X = [rmse_plasmaX,rmse_serumX]\n",
        "\n",
        "label = [\"Serum\\nLuminex\", \"Plasma\\nSomalogic\"]\n",
        "\n",
        "  \n",
        "X_axis = np.arange(len(rmse_R))\n",
        "  \n",
        "plt.bar(X_axis - 0.2, rmse_R, 0.4, label = \"Random Forest\",color = colors[0])\n",
        "plt.bar(X_axis + 0.2, rmse_X, 0.4, label = \"XGboost\", color = colors[8])\n",
        "  \n",
        "plt.xticks(X_axis, label)\n",
        "plt.ylabel(\"Root Mean Squared Error\")\n",
        "sns.despine(bottom=True)\n",
        "plt.legend()\n",
        "plt.show()"
      ]
    },
    {
      "cell_type": "markdown",
      "source": [
        "#### It can be seen that XGBOOST PERFORMED BETTER THAN RANDOM FOREST WITH SMALLER RMSE."
      ],
      "metadata": {
        "id": "8KVq3tTk7kcG"
      },
      "id": "8KVq3tTk7kcG"
    },
    {
      "cell_type": "markdown",
      "id": "20d7f41b-dc88-4862-a046-ef2059431ca0",
      "metadata": {
        "id": "20d7f41b-dc88-4862-a046-ef2059431ca0"
      },
      "source": [
        "**Figure 5:**<br/>\n",
        "<img src=\"assets/task1_multiomics_fig5_min.jpeg\">"
      ]
    },
    {
      "cell_type": "markdown",
      "id": "fd18c532-1f47-46eb-afd3-762fad1d1e72",
      "metadata": {
        "tags": [],
        "id": "fd18c532-1f47-46eb-afd3-762fad1d1e72"
      },
      "source": [
        "**Figure 2D:**<br/>\n",
        "<img src=\"assets/task1_multiomics_fig2d.jpeg\">"
      ]
    },
    {
      "cell_type": "code",
      "execution_count": 20,
      "id": "58877194-bff2-462f-bbfc-c64b9ccf3f91",
      "metadata": {
        "colab": {
          "base_uri": "https://localhost:8080/",
          "height": 283
        },
        "id": "58877194-bff2-462f-bbfc-c64b9ccf3f91",
        "outputId": "49302c3a-9bba-4ff8-d3ba-a7f9b99d9171"
      },
      "outputs": [
        {
          "output_type": "display_data",
          "data": {
            "text/plain": [
              "<Figure size 432x288 with 1 Axes>"
            ],
            "image/png": "[encoded data removed]"
          },
          "metadata": {
            "needs_background": "light"
          }
        }
      ],
      "source": [
        "\n",
        "y_pred_serumX = model_serumX.predict(X_train_serum)\n",
        "\n",
        "y_pred_plasmaX = model2.predict(X_train_plasma)\n",
        "\n",
        "y_ave_plasma = (y_train_plasma+y_pred_plasmaX)/2\n",
        "y_ave_serum = (y_train_serum+y_pred_serumX)/2\n",
        "\n",
        "plt.scatter(y_train_plasma,y_pred_plasmaX)\n",
        "plt.scatter(y_train_serum,y_pred_serumX, color = \"r\")\n",
        "sns.kdeplot(data=y_ave_plasma)\n",
        "sns.kdeplot(data=y_ave_serum)\n",
        "plt.ylim( 0)\n",
        "plt.show()"
      ]
    },
    {
      "cell_type": "code",
      "source": [
        "sns.kdeplot(data=y_ave_plasma,bw_adjust=5, cut=0)\n",
        "sns.kdeplot(data=y_ave_serum,bw_adjust=5, cut=0)\n",
        "plt.ylim(0.005)\n",
        "plt.ylim(0)\n",
        "plt.show()"
      ],
      "metadata": {
        "colab": {
          "base_uri": "https://localhost:8080/",
          "height": 280
        },
        "id": "2jCcvoRCq6Yp",
        "outputId": "d69f828b-9fc8-429d-e186-555b2fe9992d"
      },
      "id": "2jCcvoRCq6Yp",
      "execution_count": 21,
      "outputs": [
        {
          "output_type": "display_data",
          "data": {
            "text/plain": [
              "<Figure size 432x288 with 1 Axes>"
            ],
            "image/png": "[encoded data removed]"
          },
          "metadata": {
            "needs_background": "light"
          }
        }
      ]
    },
    {
      "cell_type": "markdown",
      "id": "52ad8f7a-958f-44ec-8281-831e324b568d",
      "metadata": {
        "id": "52ad8f7a-958f-44ec-8281-831e324b568d"
      },
      "source": [
        "## Task 4: Predicting the sex of the baby using neural networks"
      ]
    },
    {
      "cell_type": "markdown",
      "id": "5b3a9325-f608-4833-8795-b831fa02b603",
      "metadata": {
        "id": "5b3a9325-f608-4833-8795-b831fa02b603"
      },
      "source": [
        "1. Try using a neural network in Tensorflow or PyTorch for the previous predicion task. \n",
        "2. Perform hypterparameter optimization.\n",
        "3. Discuss your choices in designing and optimizing the neural network.\n",
        "4. Discuss why a neural network may be better/worse than applying a regular model (e.g., linear regression or a random forest)."
      ]
    },
    {
      "cell_type": "markdown",
      "source": [
        "Neural networks may not always be better than regular models when the number of observations is less than the number of features. In fact, when the number of observations is small relative to the number of features, traditional models such as linear regression or decision trees may be more appropriate.\n",
        "\n",
        "Neural networks does not perform always better than the regular models expecially when the number of features is larger than teh number of observation because it requires a large number of training data to effectively learn the underlying patterns in the data.\n",
        "\n",
        "On the other hand, traditional models such as linear regression or decision trees are less prone to overfitting and may perform better when the number of observations is small relative to the number of features."
      ],
      "metadata": {
        "id": "0lfksB7O8dTz"
      },
      "id": "0lfksB7O8dTz"
    },
    {
      "cell_type": "code",
      "source": [
        "y = data_multiomics[\"Sex\"]#assigning target variable to sex\n",
        "\n",
        "\n",
        "#Divinding the data to train and test data\n",
        "X_train_plasma, X_test_plasma, y_train_plasma, y_test_plasma = train_test_split(X_plasma, y, test_size=0.1, random_state=36)\n",
        "X_train_serum, X_test_serum, y_train_serum, y_test_serum = train_test_split(X_serum, y, test_size=0.1, random_state=36)"
      ],
      "metadata": {
        "id": "EtifFNRq3HqM"
      },
      "id": "EtifFNRq3HqM",
      "execution_count": null,
      "outputs": []
    },
    {
      "cell_type": "markdown",
      "id": "23a2ee11-7db5-4672-a167-2970a51bbf21",
      "metadata": {
        "id": "23a2ee11-7db5-4672-a167-2970a51bbf21"
      },
      "source": []
    },
    {
      "cell_type": "code",
      "execution_count": 17,
      "id": "b9b14eda",
      "metadata": {
        "id": "b9b14eda"
      },
      "outputs": [],
      "source": [
        "import tensorflow as tf\n",
        "from tensorflow import keras\n",
        "\n",
        "model = keras.Sequential([\n",
        "    keras.layers.Dense(64, activation='relu', input_shape=(68,)),\n",
        "    keras.layers.Dense(32, activation='relu'),\n",
        "    keras.layers.Dense(1, activation='sigmoid')\n",
        "])\n",
        "\n",
        "model.compile(optimizer='adam', loss='binary_crossentropy', metrics=['accuracy'])\n"
      ]
    },
    {
      "cell_type": "code",
      "execution_count": 19,
      "id": "36811808",
      "metadata": {
        "colab": {
          "base_uri": "https://localhost:8080/"
        },
        "id": "36811808",
        "outputId": "b9dceb41-6a8f-4f3f-e2f9-43e41cc9b8d1"
      },
      "outputs": [
        {
          "output_type": "stream",
          "name": "stderr",
          "text": [
            "<ipython-input-19-b8a26326da3a>:14: DeprecationWarning: KerasClassifier is deprecated, use Sci-Keras (https://github.com/adriangb/scikeras) instead. See https://www.adriangb.com/scikeras/stable/migration.html for help migrating.\n",
            "  model = KerasClassifier(build_fn=create_model, verbose=0)\n"
          ]
        },
        {
          "output_type": "stream",
          "name": "stdout",
          "text": [
            "Best: 0.127778 using {'batch_size': 16, 'epochs': 10, 'optimizer': 'adam'}\n"
          ]
        }
      ],
      "source": [
        "from sklearn.model_selection import GridSearchCV\n",
        "from tensorflow.keras.wrappers.scikit_learn import KerasClassifier\n",
        "\n",
        "def create_model(optimizer = 'adam'):\n",
        "    model = keras.Sequential([\n",
        "        keras.layers.Dense(64, activation='relu', input_shape=[1300]),\n",
        "        keras.layers.Dense(32, activation='relu'),\n",
        "        keras.layers.Dense(1, activation='sigmoid')\n",
        "    ])\n",
        "\n",
        "    model.compile(optimizer='adam', loss='binary_crossentropy', metrics=['accuracy'])\n",
        "    return model\n",
        "\n",
        "model = KerasClassifier(build_fn=create_model, verbose=0)\n",
        "\n",
        "param_grid = {\n",
        "    'batch_size': [16, 32],\n",
        "    'epochs': [10, 20],\n",
        "    'optimizer': ['adam', 'sgd']\n",
        "}\n",
        "\n",
        "grid = GridSearchCV(estimator=model, param_grid=param_grid, n_jobs=-1, cv=3)\n",
        "grid_result = grid.fit(X_train_plasma, y_train_plasma)\n",
        "\n",
        "print(\"Best: %f using %s\" % (grid_result.best_score_, grid_result.best_params_))"
      ]
    },
    {
      "cell_type": "code",
      "source": [
        "from sklearn.model_selection import GridSearchCV\n",
        "from tensorflow.keras.wrappers.scikit_learn import KerasClassifier\n",
        "\n",
        "def create_model(optimizer = 'adam'):\n",
        "    model = keras.Sequential([\n",
        "        keras.layers.Dense(64, activation='relu', input_shape=[62]),\n",
        "        keras.layers.Dense(32, activation='relu'),\n",
        "        keras.layers.Dense(1, activation='sigmoid')\n",
        "    ])\n",
        "\n",
        "    model.compile(optimizer='adam', loss='binary_crossentropy', metrics=['accuracy'])\n",
        "    return model\n",
        "\n",
        "model = KerasClassifier(build_fn=create_model, verbose=0)\n",
        "\n",
        "param_grid = {\n",
        "    'batch_size': [16, 32],\n",
        "    'epochs': [10, 20],\n",
        "    'optimizer': ['adam', 'sgd']\n",
        "}\n",
        "\n",
        "grid = GridSearchCV(estimator=model, param_grid=param_grid, n_jobs=-1, cv=3)\n",
        "grid_result = grid.fit(X_train_serum, y_train_serum)\n",
        "\n",
        "print(\"Best: %f using %s\" % (grid_result.best_score_, grid_result.best_params_))"
      ],
      "metadata": {
        "id": "jCd6ZZ5v3PPL"
      },
      "id": "jCd6ZZ5v3PPL",
      "execution_count": null,
      "outputs": []
    },
    {
      "cell_type": "code",
      "source": [],
      "metadata": {
        "id": "3_rKKpgRujm3"
      },
      "id": "3_rKKpgRujm3",
      "execution_count": null,
      "outputs": []
    },
    {
      "cell_type": "markdown",
      "id": "7a9572cf",
      "metadata": {
        "id": "7a9572cf"
      },
      "source": [
        "#### Choices in designing and optimizing the neural network:\n",
        "\n",
        "In designing the neural network, I chose to use two hidden layers with 64 and 32 neurons respectively, which is a common architecture for binary classification problems. I also used the ReLU activation function for the hidden layers and sigmoid for the output layer. For optimizing the neural network, I used the Adam optimizer and binary cross-entropy loss function, which are also commonly used for binary classification problems.\n",
        "In optimizing the neural network, I used GridSearchCV to search over different hyperparameters like batch size, number of epochs, and optimizer. I chose to search over a small set of hyperparameters to keep the computation time reasonable, but in practice, you can search over a larger set of hyperparameters to get better performance."
      ]
    },
    {
      "cell_type": "markdown",
      "id": "c81ed739-b7e3-4109-a4ff-2a32fc1bf2e0",
      "metadata": {
        "id": "c81ed739-b7e3-4109-a4ff-2a32fc1bf2e0"
      },
      "source": [
        "## Task 5: Feedback"
      ]
    },
    {
      "cell_type": "markdown",
      "id": "2fd46904-f89c-44ee-9c4c-4c162f09d239",
      "metadata": {
        "id": "2fd46904-f89c-44ee-9c4c-4c162f09d239"
      },
      "source": [
        "Were the tasks above difficult, easy, or a mixture? In both cases, briefly describe why."
      ]
    },
    {
      "cell_type": "markdown",
      "source": [
        "The task was mixture for me personal expecially the plot that I could not get. Even though I started the task yesterday which is not an excuse for me. "
      ],
      "metadata": {
        "id": "r8C7_n6l9Zti"
      },
      "id": "r8C7_n6l9Zti"
    },
    {
      "cell_type": "code",
      "execution_count": null,
      "id": "665963ee-c99b-48d2-9f4c-082c1c5338d9",
      "metadata": {
        "id": "665963ee-c99b-48d2-9f4c-082c1c5338d9"
      },
      "outputs": [],
      "source": []
    }
  ],
  "metadata": {
    "kernelspec": {
      "display_name": "base",
      "language": "python",
      "name": "python3"
    },
    "language_info": {
      "codemirror_mode": {
        "name": "ipython",
        "version": 3
      },
      "file_extension": ".py",
      "mimetype": "text/x-python",
      "name": "python",
      "nbconvert_exporter": "python",
      "pygments_lexer": "ipython3",
      "version": "3.9.13"
    },
    "toc-autonumbering": false,
    "vscode": {
      "interpreter": {
        "hash": "17b79e126cdb9938f2d79fc7a3571d35ab07e162ac3d36729db28d79c57e596e"
      }
    },
    "colab": {
      "provenance": [],
      "include_colab_link": true
    }
  },
  "nbformat": 4,
  "nbformat_minor": 5
}