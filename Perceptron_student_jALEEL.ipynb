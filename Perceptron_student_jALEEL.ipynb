{
  "cells": [
    {
      "cell_type": "markdown",
      "metadata": {
        "id": "view-in-github",
        "colab_type": "text"
      },
      "source": [
        "<a href=\"https://colab.research.google.com/github/jelade/AMMI_PROJECT1_G8/blob/main/Perceptron_student_jALEEL.ipynb\" target=\"_parent\"><img src=\"https://colab.research.google.com/assets/colab-badge.svg\" alt=\"Open In Colab\"/></a>"
      ]
    },
    {
      "cell_type": "code",
      "execution_count": null,
      "metadata": {
        "id": "VhoY8C6aa5HT"
      },
      "outputs": [],
      "source": [
        " ### Import packages\n",
        "\n",
        "import numpy as np\n",
        "import matplotlib.pyplot as plt\n",
        "from sklearn.datasets import load_iris"
      ]
    },
    {
      "cell_type": "code",
      "execution_count": null,
      "metadata": {
        "id": "d5HcWRp0a5HX"
      },
      "outputs": [],
      "source": [
        "### Import datasets from sklearn.datasets\n",
        "data = load_iris()"
      ]
    },
    {
      "cell_type": "code",
      "execution_count": null,
      "metadata": {
        "id": "radjgNPta5HX"
      },
      "outputs": [],
      "source": [
        "#### Target \n",
        "\n",
        "target = data.target"
      ]
    },
    {
      "cell_type": "code",
      "execution_count": null,
      "metadata": {
        "id": "b4XAj5Rta5HY",
        "colab": {
          "base_uri": "https://localhost:8080/"
        },
        "outputId": "0da0b2db-a407-40b2-da3a-2a44c2d2ae29"
      },
      "outputs": [
        {
          "output_type": "execute_result",
          "data": {
            "text/plain": [
              "(array([0, 1, 2]), array([50, 50, 50]))"
            ]
          },
          "metadata": {},
          "execution_count": 5
        }
      ],
      "source": [
        "### Count the number of uniques values\n",
        "\n",
        "N_= np.unique(target, return_counts=True)\n",
        "N_"
      ]
    },
    {
      "cell_type": "code",
      "execution_count": null,
      "metadata": {
        "colab": {
          "base_uri": "https://localhost:8080/"
        },
        "id": "SRvdDUEra5HY",
        "outputId": "3e190822-f4f5-48a7-df67-0cacea3b658a"
      },
      "outputs": [
        {
          "output_type": "stream",
          "name": "stdout",
          "text": [
            "the unique values in the targets are (array([0, 1, 2]), array([50, 50, 50]))\n"
          ]
        }
      ],
      "source": [
        "print('the unique values in the targets are', N_)"
      ]
    },
    {
      "cell_type": "code",
      "execution_count": null,
      "metadata": {
        "colab": {
          "base_uri": "https://localhost:8080/"
        },
        "id": "l4qtWQzna5HZ",
        "outputId": "712f2101-6fb2-4ed0-d504-d6ea8fa0cf7d"
      },
      "outputs": [
        {
          "output_type": "execute_result",
          "data": {
            "text/plain": [
              "(150,)"
            ]
          },
          "metadata": {},
          "execution_count": 7
        }
      ],
      "source": [
        "target.shape\n"
      ]
    },
    {
      "cell_type": "markdown",
      "source": [
        "## Remove the class 2 in our dataset in order to have a binary classification problem"
      ],
      "metadata": {
        "id": "zRTrdYYvmfmO"
      }
    },
    {
      "cell_type": "code",
      "execution_count": null,
      "metadata": {
        "id": "gOL6z-Qqa5Ha",
        "colab": {
          "base_uri": "https://localhost:8080/"
        },
        "outputId": "160837f9-168d-4dec-823b-9254656dff52"
      },
      "outputs": [
        {
          "output_type": "execute_result",
          "data": {
            "text/plain": [
              "array([0, 0, 0, 0, 0, 0, 0, 0, 0, 0, 0, 0, 0, 0, 0, 0, 0, 0, 0, 0, 0, 0,\n",
              "       0, 0, 0, 0, 0, 0, 0, 0, 0, 0, 0, 0, 0, 0, 0, 0, 0, 0, 0, 0, 0, 0,\n",
              "       0, 0, 0, 0, 0, 0, 1, 1, 1, 1, 1, 1, 1, 1, 1, 1, 1, 1, 1, 1, 1, 1,\n",
              "       1, 1, 1, 1, 1, 1, 1, 1, 1, 1, 1, 1, 1, 1, 1, 1, 1, 1, 1, 1, 1, 1,\n",
              "       1, 1, 1, 1, 1, 1, 1, 1, 1, 1, 1, 1])"
            ]
          },
          "metadata": {},
          "execution_count": 8
        }
      ],
      "source": [
        "#### Transforms target to binary classification problem\n",
        "## your code\n",
        "y = target[target < 2]\n",
        "y"
      ]
    },
    {
      "cell_type": "code",
      "execution_count": null,
      "metadata": {
        "id": "QRFOsXyQa5Ha",
        "outputId": "2cf0f2c2-796d-4733-b072-2c9bfe0e8cc7",
        "colab": {
          "base_uri": "https://localhost:8080/"
        }
      },
      "outputs": [
        {
          "output_type": "execute_result",
          "data": {
            "text/plain": [
              "(100,)"
            ]
          },
          "metadata": {},
          "execution_count": 9
        }
      ],
      "source": [
        "y.shape"
      ]
    },
    {
      "cell_type": "markdown",
      "source": [
        "## Replace all 0 in the target by -1 using numpy"
      ],
      "metadata": {
        "id": "oX_AtTDnm_7v"
      }
    },
    {
      "cell_type": "code",
      "execution_count": null,
      "metadata": {
        "id": "dfeM2mVta5Hb"
      },
      "outputs": [],
      "source": [
        "###using np.where\n",
        "y = np.where(y==0,-1,y)"
      ]
    },
    {
      "cell_type": "code",
      "execution_count": null,
      "metadata": {
        "id": "M1g4Vb4za5Hb",
        "outputId": "68e23e56-7c33-40e7-c72c-2333ea444e76",
        "colab": {
          "base_uri": "https://localhost:8080/"
        }
      },
      "outputs": [
        {
          "output_type": "execute_result",
          "data": {
            "text/plain": [
              "array([-1, -1, -1, -1, -1, -1, -1, -1, -1, -1, -1, -1, -1, -1, -1, -1, -1,\n",
              "       -1, -1, -1, -1, -1, -1, -1, -1, -1, -1, -1, -1, -1, -1, -1, -1, -1,\n",
              "       -1, -1, -1, -1, -1, -1, -1, -1, -1, -1, -1, -1, -1, -1, -1, -1,  1,\n",
              "        1,  1,  1,  1,  1,  1,  1,  1,  1,  1,  1,  1,  1,  1,  1,  1,  1,\n",
              "        1,  1,  1,  1,  1,  1,  1,  1,  1,  1,  1,  1,  1,  1,  1,  1,  1,\n",
              "        1,  1,  1,  1,  1,  1,  1,  1,  1,  1,  1,  1,  1,  1,  1])"
            ]
          },
          "metadata": {},
          "execution_count": 11
        }
      ],
      "source": [
        "y"
      ]
    },
    {
      "cell_type": "markdown",
      "source": [
        "## Get the input data"
      ],
      "metadata": {
        "id": "Gw2n99F1nFu2"
      }
    },
    {
      "cell_type": "code",
      "execution_count": null,
      "metadata": {
        "id": "Zj8C-cD_a5Hb"
      },
      "outputs": [],
      "source": [
        "### Inputs values\n",
        "Inputs = data.data"
      ]
    },
    {
      "cell_type": "code",
      "execution_count": null,
      "metadata": {
        "colab": {
          "base_uri": "https://localhost:8080/"
        },
        "id": "PMF4LKb_a5Hc",
        "outputId": "fc465ade-88e9-4560-d9b7-61aeb738685e"
      },
      "outputs": [
        {
          "output_type": "execute_result",
          "data": {
            "text/plain": [
              "(150, 4)"
            ]
          },
          "metadata": {},
          "execution_count": 13
        }
      ],
      "source": [
        "Inputs.shape"
      ]
    },
    {
      "cell_type": "markdown",
      "source": [
        "## for simplicity let's keep only two features (columns) (`sepal width` and  `petal width`)"
      ],
      "metadata": {
        "id": "5p9a21CA-V1l"
      }
    },
    {
      "cell_type": "code",
      "source": [
        "Inputs = np.hstack([Inputs[:, 1].reshape(-1, 1), Inputs[:, 3].reshape(-1, 1)])"
      ],
      "metadata": {
        "id": "IY4M5poQ6EcU"
      },
      "execution_count": null,
      "outputs": []
    },
    {
      "cell_type": "code",
      "source": [
        "Inputs[0]"
      ],
      "metadata": {
        "colab": {
          "base_uri": "https://localhost:8080/"
        },
        "id": "BfvL2AY17FPB",
        "outputId": "9277e60d-1570-47df-9e31-10a8554e1ba4"
      },
      "execution_count": null,
      "outputs": [
        {
          "output_type": "execute_result",
          "data": {
            "text/plain": [
              "array([3.5, 0.2])"
            ]
          },
          "metadata": {},
          "execution_count": 15
        }
      ]
    },
    {
      "cell_type": "markdown",
      "source": [
        "## Let's remove the last 50 rows in the inputs data (they belong to the class 2)"
      ],
      "metadata": {
        "id": "v5BsStFCniFJ"
      }
    },
    {
      "cell_type": "code",
      "execution_count": null,
      "metadata": {
        "id": "y3xruEHZa5Hc"
      },
      "outputs": [],
      "source": [
        "#### New Inputs\n",
        "\n",
        "X = Inputs[:100,:]"
      ]
    },
    {
      "cell_type": "code",
      "source": [
        "plt.scatter(X[:, 1], y)"
      ],
      "metadata": {
        "colab": {
          "base_uri": "https://localhost:8080/",
          "height": 282
        },
        "id": "AjWhFZH9BHyi",
        "outputId": "011fa028-bfc8-4c02-e13b-a10f3845793a"
      },
      "execution_count": null,
      "outputs": [
        {
          "output_type": "execute_result",
          "data": {
            "text/plain": [
              "<matplotlib.collections.PathCollection at 0x7f3ad36b0d60>"
            ]
          },
          "metadata": {},
          "execution_count": 17
        },
        {
          "output_type": "display_data",
          "data": {
            "text/plain": [
              "<Figure size 432x288 with 1 Axes>"
            ],
            "image/png": "[encoded data removed]"
          },
          "metadata": {
            "needs_background": "light"
          }
        }
      ]
    },
    {
      "cell_type": "code",
      "execution_count": null,
      "metadata": {
        "id": "hDg4AQUza5Hd",
        "outputId": "25c23cd5-4632-4b33-d040-ef8422569308",
        "colab": {
          "base_uri": "https://localhost:8080/"
        }
      },
      "outputs": [
        {
          "output_type": "execute_result",
          "data": {
            "text/plain": [
              "(100, 2)"
            ]
          },
          "metadata": {},
          "execution_count": 18
        }
      ],
      "source": [
        "X.shape"
      ]
    },
    {
      "cell_type": "markdown",
      "source": [
        "## Combines the dataset and Shuffle them using numpy"
      ],
      "metadata": {
        "id": "ZvYJOFgxnuD6"
      }
    },
    {
      "cell_type": "code",
      "execution_count": null,
      "metadata": {
        "id": "-2LXYdI4a5Hd"
      },
      "outputs": [],
      "source": [
        "### Combines the dataset and Shuffle them\n",
        "\n",
        "dataset = np.hstack((X,y.reshape(-1,1)))\n"
      ]
    },
    {
      "cell_type": "code",
      "source": [
        "dataset[0]"
      ],
      "metadata": {
        "colab": {
          "base_uri": "https://localhost:8080/"
        },
        "id": "3EIUzEvA7ffe",
        "outputId": "da33523d-6103-4fcf-e901-96f78852f338"
      },
      "execution_count": null,
      "outputs": [
        {
          "output_type": "execute_result",
          "data": {
            "text/plain": [
              "array([ 3.5,  0.2, -1. ])"
            ]
          },
          "metadata": {},
          "execution_count": 20
        }
      ]
    },
    {
      "cell_type": "code",
      "execution_count": null,
      "metadata": {
        "id": "Lz55VlPwa5Hd",
        "colab": {
          "base_uri": "https://localhost:8080/"
        },
        "outputId": "e19b8e49-9a43-4fcf-cfd9-07c26041673f"
      },
      "outputs": [
        {
          "output_type": "execute_result",
          "data": {
            "text/plain": [
              "array([0., 0., 0.])"
            ]
          },
          "metadata": {},
          "execution_count": 21
        }
      ],
      "source": [
        "n,_=dataset.shape\n",
        "\n",
        "np.zeros((_))"
      ]
    },
    {
      "cell_type": "code",
      "execution_count": null,
      "metadata": {
        "id": "YTxsELH1a5He"
      },
      "outputs": [],
      "source": [
        "#### Shuffle the dataset and split\n",
        "np.random.shuffle(dataset)\n",
        "\n",
        "#dataset_ = dataset[perm_index]\n",
        "\n",
        "p = 0.8\n",
        "X_train, Y_train = dataset[:int(n*p),:-1], dataset[:int(n*p),-1]\n",
        "X_test, Y_test = dataset[int(n*p):,:-1], dataset[int(n*p):,-1]"
      ]
    },
    {
      "cell_type": "code",
      "execution_count": null,
      "metadata": {
        "id": "f2SrQK0ra5He",
        "outputId": "dccdfa46-bbb8-446e-f2cb-7bcb50e65fa1",
        "colab": {
          "base_uri": "https://localhost:8080/"
        }
      },
      "outputs": [
        {
          "output_type": "stream",
          "name": "stdout",
          "text": [
            "(80, 2)\n"
          ]
        }
      ],
      "source": [
        "print(X_train.shape)"
      ]
    },
    {
      "cell_type": "code",
      "execution_count": null,
      "metadata": {
        "id": "LQdFxmC4a5Hf",
        "outputId": "60e58aff-c5e4-469a-8d3f-c2fb1eeae6d6",
        "colab": {
          "base_uri": "https://localhost:8080/"
        }
      },
      "outputs": [
        {
          "output_type": "stream",
          "name": "stdout",
          "text": [
            "(80,)\n",
            "(20, 2)\n",
            "(20,)\n"
          ]
        }
      ],
      "source": [
        "print(Y_train.shape)\n",
        "print(X_test.shape)\n",
        "print(Y_test.shape)"
      ]
    },
    {
      "cell_type": "code",
      "execution_count": null,
      "metadata": {
        "id": "Fi4m35Q6a5Hh"
      },
      "outputs": [],
      "source": [
        "class perceptron:\n",
        "    \n",
        "    eps = 1e-5\n",
        "    def __init__(self,theta,iter_= 2):\n",
        "        self.iter_ = iter_\n",
        "        self.theta = theta\n",
        "        \n",
        "        \n",
        "    def train(self, X, y):\n",
        "        n,_= X.shape\n",
        "        lr = 0.01\n",
        "        ## your code here\n",
        "        for i in range(self.iter_):\n",
        "          pred1 = X@self.theta\n",
        "          pred = np.where(pred1<0,-1,1)\n",
        "          self.theta = self.theta + lr*((y-pred).T@X)\n",
        "\n",
        "        return self.theta\n",
        "    \n",
        "    def train1(self, X, y):\n",
        "        ## your code here\n",
        "        for j in range(self.iter_):\n",
        "          for i in range(len(X)):\n",
        "            pred = np.sign(X[i]@self.theta)\n",
        "            if y[i]*pred < 0:\n",
        "              self.theta = self.theta + y[i]*X[i]\n",
        "            else:\n",
        "              self.theta =self.theta\n",
        "        return self.theta\n",
        "\n",
        "    def train_(self, X, y):\n",
        "        n,_= X.shape\n",
        "        lr = 0.01\n",
        "        while True:\n",
        "          theta1 = self.theta\n",
        "          for i in range(len(X)):\n",
        "            pred = np.sign(X[i]@self.theta)\n",
        "            if y[i]*pred < 0:\n",
        "              self.theta = self.theta + y[i]*X[i]\n",
        "            else:\n",
        "              self.theta =self.theta\n",
        "          if np.linalg.norm(self.theta-theta1) <= perceptron.eps:\n",
        "            break\n",
        "\n",
        "\n",
        "          ## add your code here\n",
        "        return self.theta  \n",
        "    \n",
        "    def predict(self,X):\n",
        "      n,_= X.shape\n",
        "      predict  = X@self.theta\n",
        "      return np.where(predict<0,-1,1)\n",
        "    def accuracy(self,X,Y):\n",
        "      predict = self.predict(X)\n",
        "\n",
        "      acc = np.mean(Y==predict)\n",
        "\n",
        "      return acc*100\n",
        "\n",
        "            "
      ]
    },
    {
      "cell_type": "markdown",
      "source": [
        "## Instanciate a new perceptron model and train it"
      ],
      "metadata": {
        "id": "4BHC2mtA8Fca"
      }
    },
    {
      "cell_type": "code",
      "execution_count": null,
      "metadata": {
        "id": "wcwMg-Jga5Hi"
      },
      "outputs": [],
      "source": [
        "theta = np.random.rand(2)*1e-4\n",
        "perc = perceptron(theta)"
      ]
    },
    {
      "cell_type": "code",
      "execution_count": null,
      "metadata": {
        "id": "mcNFxej0a5Hi",
        "outputId": "0503a4bc-5d1b-435d-cfc6-5a15d73d64b6",
        "colab": {
          "base_uri": "https://localhost:8080/"
        }
      },
      "outputs": [
        {
          "output_type": "execute_result",
          "data": {
            "text/plain": [
              "array([5.55271466e-05, 6.29738320e-05])"
            ]
          },
          "metadata": {},
          "execution_count": 54
        }
      ],
      "source": [
        "perc.theta"
      ]
    },
    {
      "cell_type": "code",
      "execution_count": null,
      "metadata": {
        "id": "jZquZaUva5Hj",
        "colab": {
          "base_uri": "https://localhost:8080/"
        },
        "outputId": "35333221-4687-4d2d-fad6-375279a2a207"
      },
      "outputs": [
        {
          "output_type": "execute_result",
          "data": {
            "text/plain": [
              "array([-2.39994447, 10.20006297])"
            ]
          },
          "metadata": {},
          "execution_count": 55
        }
      ],
      "source": [
        "perc.train_(X_train, Y_train)"
      ]
    },
    {
      "cell_type": "code",
      "source": [
        "perc.theta"
      ],
      "metadata": {
        "colab": {
          "base_uri": "https://localhost:8080/"
        },
        "id": "2Ahsc_l-mn0e",
        "outputId": "f5f3ceed-2b44-4067-c3e5-96ad6597561d"
      },
      "execution_count": null,
      "outputs": [
        {
          "output_type": "execute_result",
          "data": {
            "text/plain": [
              "array([-2.39994447, 10.20006297])"
            ]
          },
          "metadata": {},
          "execution_count": 56
        }
      ]
    },
    {
      "cell_type": "code",
      "source": [
        "slope = - perc.theta[0]/perc.theta[1]\n",
        "min = np.amin(X_train[:, 0])\n",
        "max = np.amax(X_train[:, 0])\n",
        "\n",
        "x1 = [min, max]\n",
        "x2 = [slope*min , slope*max]\n",
        "plt.scatter(X_train[:,0], X_train[:, 1], marker=\"o\", c=Y_train)\n",
        "plt.plot(x1, x2)"
      ],
      "metadata": {
        "colab": {
          "base_uri": "https://localhost:8080/",
          "height": 282
        },
        "id": "1jv9z607rMri",
        "outputId": "b0e690d3-899f-41b1-e0bf-4be92e1addf1"
      },
      "execution_count": null,
      "outputs": [
        {
          "output_type": "execute_result",
          "data": {
            "text/plain": [
              "[<matplotlib.lines.Line2D at 0x7f3ad06c38e0>]"
            ]
          },
          "metadata": {},
          "execution_count": 57
        },
        {
          "output_type": "display_data",
          "data": {
            "text/plain": [
              "<Figure size 432x288 with 1 Axes>"
            ],
            "image/png": "[encoded data removed]"
          },
          "metadata": {
            "needs_background": "light"
          }
        }
      ]
    },
    {
      "cell_type": "markdown",
      "source": [
        "## let's evaluate the model on the training data"
      ],
      "metadata": {
        "id": "Yw0cu87c8lwU"
      }
    },
    {
      "cell_type": "code",
      "execution_count": null,
      "metadata": {
        "id": "mrNV3LiUa5Hk",
        "outputId": "a8fd608d-5a33-43cc-f7ac-e7911cf78291",
        "colab": {
          "base_uri": "https://localhost:8080/"
        }
      },
      "outputs": [
        {
          "output_type": "execute_result",
          "data": {
            "text/plain": [
              "array([ 1,  1,  1, -1, -1, -1,  1,  1,  1,  1, -1,  1, -1,  1,  1, -1,  1,\n",
              "        1,  1, -1])"
            ]
          },
          "metadata": {},
          "execution_count": 58
        }
      ],
      "source": [
        "perc.predict(X_test)"
      ]
    },
    {
      "cell_type": "code",
      "source": [
        "slope = - perc.theta[0]/perc.theta[1]\n",
        "min = np.amin(X_test[:, 0])\n",
        "max = np.amax(X_test[:, 0])\n",
        "\n",
        "\n",
        "x1 = [min, max]\n",
        "x2 = [slope*min , slope*max]\n",
        "plt.scatter(X_test[:,0], X_test[:, 1], marker=\"o\", c=Y_test)\n",
        "plt.plot(x1, x2)"
      ],
      "metadata": {
        "colab": {
          "base_uri": "https://localhost:8080/",
          "height": 282
        },
        "id": "FCVy-2CP87Ki",
        "outputId": "f99d415f-55df-47f7-c5b6-255e05fa1551"
      },
      "execution_count": null,
      "outputs": [
        {
          "output_type": "execute_result",
          "data": {
            "text/plain": [
              "[<matplotlib.lines.Line2D at 0x7f3ad069bf40>]"
            ]
          },
          "metadata": {},
          "execution_count": 59
        },
        {
          "output_type": "display_data",
          "data": {
            "text/plain": [
              "<Figure size 432x288 with 1 Axes>"
            ],
            "image/png": "[encoded data removed]"
          },
          "metadata": {
            "needs_background": "light"
          }
        }
      ]
    },
    {
      "cell_type": "code",
      "execution_count": null,
      "metadata": {
        "id": "M_CL5aBBa5Hk",
        "outputId": "3b7fac90-4e38-4578-c710-5eedbc75e934",
        "colab": {
          "base_uri": "https://localhost:8080/"
        }
      },
      "outputs": [
        {
          "output_type": "execute_result",
          "data": {
            "text/plain": [
              "65.0"
            ]
          },
          "metadata": {},
          "execution_count": 47
        }
      ],
      "source": [
        "perc.accuracy(X_test, Y_test)"
      ]
    },
    {
      "cell_type": "code",
      "source": [],
      "metadata": {
        "id": "f0uOaofjwfkd"
      },
      "execution_count": null,
      "outputs": []
    }
  ],
  "metadata": {
    "kernelspec": {
      "display_name": "Python 3",
      "language": "python",
      "name": "python3"
    },
    "language_info": {
      "codemirror_mode": {
        "name": "ipython",
        "version": 3
      },
      "file_extension": ".py",
      "mimetype": "text/x-python",
      "name": "python",
      "nbconvert_exporter": "python",
      "pygments_lexer": "ipython3",
      "version": "3.8.5"
    },
    "colab": {
      "provenance": [],
      "include_colab_link": true
    }
  },
  "nbformat": 4,
  "nbformat_minor": 0
}